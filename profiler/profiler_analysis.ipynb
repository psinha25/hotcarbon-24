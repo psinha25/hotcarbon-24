{
 "cells": [
  {
   "cell_type": "code",
   "execution_count": 1,
   "id": "e21c36e5-64f3-4282-82d8-d99acf6b0251",
   "metadata": {},
   "outputs": [],
   "source": [
    "from glob import glob\n",
    "import pandas as pd\n",
    "import numpy as np"
   ]
  },
  {
   "cell_type": "code",
   "execution_count": 2,
   "id": "a829eb2c-4940-4500-8aac-36c16f4d5990",
   "metadata": {},
   "outputs": [],
   "source": [
    "file_list = glob(\"data/a100/*/*output_ncu.csv\")\n",
    "profile_results = []\n",
    "for file in file_list:\n",
    "    df = pd.read_csv(file)\n",
    "    used_columns = [0,6,13,14,15,16]\n",
    "    unused_columns = df.columns[list(set(range(df.columns.shape[0])).difference(used_columns))]\n",
    "    df = df.drop(columns=unused_columns)\n",
    "    metrics = ['Duration', 'Memory Throughput', 'Compute (SM) Throughput']\n",
    "    df = df[df['Metric Name'].isin(metrics) & df['Section Name'].isin([\"GPU Speed Of Light Throughput\"])]\n",
    "    df_memory = df[0::3][['ID', 'Kernel Name', 'Metric Value']].rename(columns={'Metric Value': 'memory'})\n",
    "    df_duration = df[1::3][['ID', 'Kernel Name', 'Metric Value']].rename(columns={'Metric Value': 'duration'})\n",
    "    df_compute = df[2::3][['ID', 'Kernel Name', 'Metric Value']].rename(columns={'Metric Value': 'compute'})\n",
    "    df = pd.merge(df_memory, df_duration, on=['ID', 'Kernel Name'])\n",
    "    df = pd.merge(df, df_compute, on=['ID', 'Kernel Name'])\n",
    "    df['memory'] = df['memory'].str.replace(',', '').astype(float)/100\n",
    "    df['duration'] = df['duration'].str.replace(',', '').astype(float)/1e9\n",
    "    df['compute'] = df['compute'].str.replace(',', '').astype(float)/100\n",
    "    profile_results.append(df.groupby('Kernel Name'))"
   ]
  },
  {
   "cell_type": "code",
   "execution_count": null,
   "id": "f0d0d8cf-fd99-420d-aa26-0937583803aa",
   "metadata": {},
   "outputs": [],
   "source": [
    "profile_results[0].describe()"
   ]
  }
 ],
 "metadata": {
  "kernelspec": {
   "display_name": "Python 3 (ipykernel)",
   "language": "python",
   "name": "python3"
  },
  "language_info": {
   "codemirror_mode": {
    "name": "ipython",
    "version": 3
   },
   "file_extension": ".py",
   "mimetype": "text/x-python",
   "name": "python",
   "nbconvert_exporter": "python",
   "pygments_lexer": "ipython3",
   "version": "3.10.12"
  }
 },
 "nbformat": 4,
 "nbformat_minor": 5
}
