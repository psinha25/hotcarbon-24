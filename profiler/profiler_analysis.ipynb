{
 "cells": [
  {
   "cell_type": "code",
   "execution_count": 1,
   "id": "e21c36e5-64f3-4282-82d8-d99acf6b0251",
   "metadata": {},
   "outputs": [],
   "source": [
    "from glob import glob\n",
    "import pandas as pd\n",
    "import numpy as np"
   ]
  },
  {
   "cell_type": "code",
   "execution_count": 2,
   "id": "a829eb2c-4940-4500-8aac-36c16f4d5990",
   "metadata": {},
   "outputs": [],
   "source": [
    "file_list = glob(\"data/a100/*/*output_ncu.csv\")\n",
    "profile_results = []\n",
    "for file in file_list:\n",
    "    df = pd.read_csv(file)\n",
    "    used_columns = [0,6,13,14,15,16]\n",
    "    unused_columns = df.columns[list(set(range(df.columns.shape[0])).difference(used_columns))]\n",
    "    df = df.drop(columns=unused_columns)\n",
    "    metrics = ['Duration', 'Memory Throughput', 'Compute (SM) Throughput']\n",
    "    df = df[df['Metric Name'].isin(metrics) & df['Section Name'].isin([\"GPU Speed Of Light Throughput\"])]\n",
    "    df_memory = df[0::3][['ID', 'Kernel Name', 'Metric Value']].rename(columns={'Metric Value': 'memory'})\n",
    "    df_duration = df[1::3][['ID', 'Kernel Name', 'Metric Value']].rename(columns={'Metric Value': 'duration'})\n",
    "    df_compute = df[2::3][['ID', 'Kernel Name', 'Metric Value']].rename(columns={'Metric Value': 'compute'})\n",
    "    df = pd.merge(df_memory, df_duration, on=['ID', 'Kernel Name'])\n",
    "    df = pd.merge(df, df_compute, on=['ID', 'Kernel Name'])\n",
    "    df['memory'] = df['memory'].str.replace(',', '').astype(float)/100\n",
    "    df['duration'] = df['duration'].str.replace(',', '').astype(float)/1e9\n",
    "    df['compute'] = df['compute'].str.replace(',', '').astype(float)/100\n",
    "    profile_results.append(df.groupby('Kernel Name'))"
   ]
  },
  {
   "cell_type": "code",
   "execution_count": 3,
   "id": "5b9efd04-b290-4edd-84b1-ba468ae3ef64",
   "metadata": {},
   "outputs": [
    {
     "data": {
      "text/plain": [
       "Kernel Name\n",
       "fmha_cutlassF_f32_aligned_64x64_rf_sm80(PyTorchMemEffAttention::AttentionKernel<float, cutlass::arch::Sm80, (bool)1, (int)64, (int)64, (int)64, (bool)1, (bool)1>::Params)                                                                                                                                                  0.112427\n",
       "std::enable_if<!T7, void>::type internal::gemvx::kernel<int, int, float, float, float, float, (bool)0, (bool)1, (bool)1, (bool)0, (int)7, (bool)0, cublasGemvParamsEx<int, cublasGemvTensorStridedBatched<const float>, cublasGemvTensorStridedBatched<const float>, cublasGemvTensorStridedBatched<float>, float>>(T13)    0.020275\n",
       "ampere_sgemm_32x128_tn                                                                                                                                                                                                                                                                                                      0.016155\n",
       "Name: duration, dtype: float64"
      ]
     },
     "execution_count": 3,
     "metadata": {},
     "output_type": "execute_result"
    }
   ],
   "source": [
    "profile_results[0]['duration'].sum().sort_values(ascending=False)[0:3]"
   ]
  },
  {
   "cell_type": "code",
   "execution_count": 4,
   "id": "87e1efb8-b9cf-4e8d-a5b3-c772a092f466",
   "metadata": {},
   "outputs": [
    {
     "data": {
      "text/plain": [
       "Kernel Name\n",
       "void at::native::<unnamed>::RowwiseMomentsCUDAKernel<float>(long, T1, const T1 *, T1 *, T1 *)                                                                 0.073837\n",
       "sm80_xmma_fprop_implicit_gemm_tf32f32_tf32f32_f32_nhwckrsc_nchw_tilesize256x128x32_stage3_warpsize4x2x1_g1_tensor16x8x8_execute_kernel_cudnn_infer            0.049340\n",
       "sm80_xmma_fprop_implicit_gemm_indexed_tf32f32_tf32f32_f32_nhwckrsc_nchw_tilesize128x128x16_stage4_warpsize2x2x1_g1_tensor16x8x8_execute_kernel_cudnn_infer    0.036558\n",
       "Name: duration, dtype: float64"
      ]
     },
     "execution_count": 4,
     "metadata": {},
     "output_type": "execute_result"
    }
   ],
   "source": [
    "profile_results[1]['duration'].sum().sort_values(ascending=False)[0:3]"
   ]
  },
  {
   "cell_type": "code",
   "execution_count": 5,
   "id": "1da03f66-577f-4769-9649-1145b4bb4ad1",
   "metadata": {},
   "outputs": [
    {
     "data": {
      "text/plain": [
       "Kernel Name\n",
       "void at::native::<unnamed>::RowwiseMomentsCUDAKernel<float>(long, T1, const T1 *, T1 *, T1 *)                                                         0.073906\n",
       "sm80_xmma_fprop_implicit_gemm_tf32f32_tf32f32_f32_nhwckrsc_nchw_tilesize256x128x32_stage3_warpsize4x2x1_g1_tensor16x8x8_execute_kernel_cudnn_infer    0.049593\n",
       "ampere_fp16_s16816gemm_fp16_128x256_ldg8_relu_f2f_stages_64x3_tn                                                                                      0.037065\n",
       "Name: duration, dtype: float64"
      ]
     },
     "execution_count": 5,
     "metadata": {},
     "output_type": "execute_result"
    }
   ],
   "source": [
    "profile_results[2]['duration'].sum().sort_values(ascending=False)[0:3]"
   ]
  },
  {
   "cell_type": "code",
   "execution_count": 6,
   "id": "ac0d14f3-d652-410f-b667-5a82d36fa0d7",
   "metadata": {},
   "outputs": [
    {
     "data": {
      "text/plain": [
       "Kernel Name\n",
       "ampere_sgemm_128x32_tn                                                                                                                                                                                                                           0.005882\n",
       "ampere_sgemm_128x32_sliced1x4_tn                                                                                                                                                                                                                 0.001073\n",
       "void splitKreduce_kernel<(int)32, (int)16, int, float, float, float, float, (bool)1, (bool)1, (bool)0>(cublasSplitKParams<T6>, const T4 *, const T5 *, T5 *, const T6 *, const T6 *, const T7 *, const T4 *, T7 *, void *, long, T6 *, int *)    0.000726\n",
       "Name: duration, dtype: float64"
      ]
     },
     "execution_count": 6,
     "metadata": {},
     "output_type": "execute_result"
    }
   ],
   "source": [
    "profile_results[3]['duration'].sum().sort_values(ascending=False)[0:3]"
   ]
  }
 ],
 "metadata": {
  "kernelspec": {
   "display_name": "Python 3 (ipykernel)",
   "language": "python",
   "name": "python3"
  },
  "language_info": {
   "codemirror_mode": {
    "name": "ipython",
    "version": 3
   },
   "file_extension": ".py",
   "mimetype": "text/x-python",
   "name": "python",
   "nbconvert_exporter": "python",
   "pygments_lexer": "ipython3",
   "version": "3.10.12"
  }
 },
 "nbformat": 4,
 "nbformat_minor": 5
}
