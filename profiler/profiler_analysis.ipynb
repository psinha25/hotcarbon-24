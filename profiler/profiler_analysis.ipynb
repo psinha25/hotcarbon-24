{
 "cells": [
  {
   "cell_type": "code",
   "execution_count": 1,
   "id": "e21c36e5-64f3-4282-82d8-d99acf6b0251",
   "metadata": {},
   "outputs": [],
   "source": [
    "from glob import glob\n",
    "import pandas as pd\n",
    "import numpy as np\n",
    "import matplotlib.pyplot as plt"
   ]
  },
  {
   "cell_type": "code",
   "execution_count": 2,
   "id": "a829eb2c-4940-4500-8aac-36c16f4d5990",
   "metadata": {},
   "outputs": [],
   "source": [
    "file_list = glob(\"data/a100/*/*output_ncu.csv\")\n",
    "profile_results = []\n",
    "memory_pct = []\n",
    "compute_pct = []\n",
    "for file in file_list:\n",
    "    df = pd.read_csv(file)\n",
    "    used_columns = [0,6,13,14,15,16]\n",
    "    unused_columns = df.columns[list(set(range(df.columns.shape[0])).difference(used_columns))]\n",
    "    df = df.drop(columns=unused_columns)\n",
    "    metrics = ['Duration', 'Memory Throughput', 'Compute (SM) Throughput']\n",
    "    df = df[df['Metric Name'].isin(metrics) & df['Section Name'].isin([\"GPU Speed Of Light Throughput\"])]\n",
    "    df_memory = df[0::3][['ID', 'Kernel Name', 'Metric Value']].rename(columns={'Metric Value': 'memory'})\n",
    "    df_duration = df[1::3][['ID', 'Kernel Name', 'Metric Value']].rename(columns={'Metric Value': 'duration'})\n",
    "    df_compute = df[2::3][['ID', 'Kernel Name', 'Metric Value']].rename(columns={'Metric Value': 'compute'})\n",
    "    df = pd.merge(df_memory, df_duration, on=['ID', 'Kernel Name'])\n",
    "    df = pd.merge(df, df_compute, on=['ID', 'Kernel Name'])\n",
    "    df['memory'] = df['memory'].str.replace(',', '').astype(float)/100\n",
    "    df['duration'] = df['duration'].str.replace(',', '').astype(float)/1e9\n",
    "    df['compute'] = df['compute'].str.replace(',', '').astype(float)/100\n",
    "    profile_results.append(df.groupby('Kernel Name'))\n",
    "    time_fraction = df['duration']/np.sum(df['duration'])\n",
    "    memory_pct.append(np.dot(time_fraction, df['memory']))\n",
    "    compute_pct.append(np.dot(time_fraction, df['compute']))"
   ]
  },
  {
   "cell_type": "code",
   "execution_count": 3,
   "id": "fc786c48-41ef-4e93-b9da-fe490012762c",
   "metadata": {},
   "outputs": [],
   "source": [
    "d1 = list(profile_results[1].sum()['duration'])\n",
    "k1 = list(profile_results[1].groups.keys())\n",
    "d2 = list(profile_results[3].sum()['duration'])\n",
    "k2 = list(profile_results[3].groups.keys())"
   ]
  },
  {
   "cell_type": "code",
   "execution_count": 4,
   "id": "9b34f659-0fb1-4282-91d2-80621a62b5f3",
   "metadata": {},
   "outputs": [
    {
     "data": {
      "text/plain": [
       "66"
      ]
     },
     "execution_count": 4,
     "metadata": {},
     "output_type": "execute_result"
    }
   ],
   "source": [
    "k1_u = list(set(k1).difference(set(k2)))[0]\n",
    "k1.index(k1_u)"
   ]
  },
  {
   "cell_type": "code",
   "execution_count": 5,
   "id": "2a57f311-84c9-478c-8742-23793ade00c3",
   "metadata": {},
   "outputs": [
    {
     "data": {
      "text/plain": [
       "48"
      ]
     },
     "execution_count": 5,
     "metadata": {},
     "output_type": "execute_result"
    }
   ],
   "source": [
    "k2_u = list(set(k2).difference(set(k1)))[0]\n",
    "k2.index(k2_u)"
   ]
  }
 ],
 "metadata": {
  "kernelspec": {
   "display_name": "Python 3 (ipykernel)",
   "language": "python",
   "name": "python3"
  },
  "language_info": {
   "codemirror_mode": {
    "name": "ipython",
    "version": 3
   },
   "file_extension": ".py",
   "mimetype": "text/x-python",
   "name": "python",
   "nbconvert_exporter": "python",
   "pygments_lexer": "ipython3",
   "version": "3.10.12"
  }
 },
 "nbformat": 4,
 "nbformat_minor": 5
}
