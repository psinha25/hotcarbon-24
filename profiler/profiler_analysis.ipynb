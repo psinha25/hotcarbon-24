{
 "cells": [
  {
   "cell_type": "code",
   "execution_count": 1,
   "id": "e21c36e5-64f3-4282-82d8-d99acf6b0251",
   "metadata": {},
   "outputs": [],
   "source": [
    "from glob import glob\n",
    "import pandas as pd\n",
    "import numpy as np\n",
    "import matplotlib.pyplot as plt"
   ]
  },
  {
   "cell_type": "code",
   "execution_count": 2,
   "id": "a829eb2c-4940-4500-8aac-36c16f4d5990",
   "metadata": {},
   "outputs": [],
   "source": [
    "file_list = glob(\"data/a100/*/*output_ncu.csv\")\n",
    "profile_results = []\n",
    "memory_pct = []\n",
    "compute_pct = []\n",
    "for file in file_list:\n",
    "    df = pd.read_csv(file)\n",
    "    used_columns = [0,6,13,14,15,16]\n",
    "    unused_columns = df.columns[list(set(range(df.columns.shape[0])).difference(used_columns))]\n",
    "    df = df.drop(columns=unused_columns)\n",
    "    metrics = ['Duration', 'Memory Throughput', 'Compute (SM) Throughput']\n",
    "    df = df[df['Metric Name'].isin(metrics) & df['Section Name'].isin([\"GPU Speed Of Light Throughput\"])]\n",
    "    df_memory = df[0::3][['ID', 'Kernel Name', 'Metric Value']].rename(columns={'Metric Value': 'memory'})\n",
    "    df_duration = df[1::3][['ID', 'Kernel Name', 'Metric Value']].rename(columns={'Metric Value': 'duration'})\n",
    "    df_compute = df[2::3][['ID', 'Kernel Name', 'Metric Value']].rename(columns={'Metric Value': 'compute'})\n",
    "    df = pd.merge(df_memory, df_duration, on=['ID', 'Kernel Name'])\n",
    "    df = pd.merge(df, df_compute, on=['ID', 'Kernel Name'])\n",
    "    df['memory'] = df['memory'].str.replace(',', '').astype(float)/100\n",
    "    df['duration'] = df['duration'].str.replace(',', '').astype(float)/1e9\n",
    "    df['compute'] = df['compute'].str.replace(',', '').astype(float)/100\n",
    "\n",
    "    if file == 'data/a100/diffusion/batchsize_1_output_ncu.csv':\n",
    "        kernel_to_drop = [sorted(df['Kernel Name'].unique())[66]]\n",
    "        ind_to_drop = np.where(df['Kernel Name'].isin(kernel_to_drop))[0]\n",
    "        df = df.drop(ind_to_drop)\n",
    "\n",
    "    if file == 'data/a100/diffusion-2/batchsize_1_output_ncu.csv':\n",
    "        kernel_to_drop = [sorted(df['Kernel Name'].unique())[48]]\n",
    "        ind_to_drop = np.where(df['Kernel Name'].isin(kernel_to_drop))[0]\n",
    "        df = df.drop(ind_to_drop)\n",
    "    \n",
    "    profile_results.append(df.groupby('Kernel Name'))\n",
    "    time_fraction = df['duration']/np.sum(df['duration'])\n",
    "    memory_pct.append(np.dot(time_fraction, df['memory']))\n",
    "    compute_pct.append(np.dot(time_fraction, df['compute']))"
   ]
  },
  {
   "cell_type": "code",
   "execution_count": 3,
   "id": "cfcdab9e-10ce-4e1f-a96d-61d0baab9b88",
   "metadata": {},
   "outputs": [
    {
     "data": {
      "text/plain": [
       "7.037667872000001"
      ]
     },
     "execution_count": 3,
     "metadata": {},
     "output_type": "execute_result"
    }
   ],
   "source": [
    "d_2step = profile_results[3]['duration'].sum()\n",
    "d_1step = profile_results[1]['duration'].sum()\n",
    "d_50step = d_1step + 49*(d_2step-d_1step)\n",
    "time_fraction = d_50step/np.sum(d_50step)\n",
    "sum(d_50step)"
   ]
  },
  {
   "cell_type": "code",
   "execution_count": 4,
   "id": "641ec91d-b302-4052-8103-cf569d42f13b",
   "metadata": {},
   "outputs": [
    {
     "data": {
      "text/plain": [
       "['data/a100/bert/batchsize_1_output_ncu.csv',\n",
       " 'data/a100/diffusion/batchsize_1_output_ncu.csv',\n",
       " 'data/a100/whisper/batchsize_1_output_ncu.csv',\n",
       " 'data/a100/diffusion-2/batchsize_1_output_ncu.csv',\n",
       " 'data/a100/gpt/batchsize_1_output_ncu.csv']"
      ]
     },
     "execution_count": 4,
     "metadata": {},
     "output_type": "execute_result"
    }
   ],
   "source": [
    "file_list"
   ]
  },
  {
   "cell_type": "code",
   "execution_count": 5,
   "id": "cd7e080f-7fe0-4223-804c-161a96eb6abb",
   "metadata": {},
   "outputs": [],
   "source": [
    "m_2step = profile_results[3]['memory'].mean()\n",
    "m_1step = profile_results[1]['memory'].mean()\n",
    "memory_pct.append(np.dot(time_fraction, 0.5*(m_1step+m_2step)))\n",
    "del memory_pct[1]\n",
    "del memory_pct[2]"
   ]
  },
  {
   "cell_type": "code",
   "execution_count": 6,
   "id": "2bc33eae-fea7-4484-a0e9-4ef8173aef3b",
   "metadata": {},
   "outputs": [],
   "source": [
    "c_2step = profile_results[3]['compute'].mean()\n",
    "c_1step = profile_results[1]['compute'].mean()\n",
    "compute_pct.append(np.dot(time_fraction, 0.5*(c_1step+c_2step)))\n",
    "del compute_pct[1]\n",
    "del compute_pct[2]"
   ]
  },
  {
   "cell_type": "code",
   "execution_count": 7,
   "id": "f50813f1-7bd6-41c7-b71f-5fdf0c612d0b",
   "metadata": {},
   "outputs": [
    {
     "name": "stdout",
     "output_type": "stream",
     "text": [
      "data/a100/bert data/a100/whisper data/a100/gpt stable diffusion 50 steps\n"
     ]
    },
    {
     "data": {
      "text/plain": [
       "[0.171995496339209,\n",
       " 0.20844794454463927,\n",
       " 0.3518461771746365,\n",
       " 0.4126555404307167]"
      ]
     },
     "execution_count": 7,
     "metadata": {},
     "output_type": "execute_result"
    }
   ],
   "source": [
    "print(file_list[0][:-27],file_list[2][:-27],file_list[4][:-27],'stable diffusion 50 steps')\n",
    "memory_pct"
   ]
  },
  {
   "cell_type": "code",
   "execution_count": 8,
   "id": "24d0cf40-3e3f-4db3-bc7c-f55c997f6c74",
   "metadata": {},
   "outputs": [
    {
     "name": "stdout",
     "output_type": "stream",
     "text": [
      "data/a100/bert data/a100/whisper data/a100/gpt stable diffusion 50 steps\n"
     ]
    },
    {
     "data": {
      "text/plain": [
       "[0.1754384847841299,\n",
       " 0.16334168914998157,\n",
       " 0.18966544607598243,\n",
       " 0.569321338586786]"
      ]
     },
     "execution_count": 8,
     "metadata": {},
     "output_type": "execute_result"
    }
   ],
   "source": [
    "print(file_list[0][:-27],file_list[2][:-27],file_list[4][:-27],'stable diffusion 50 steps')\n",
    "compute_pct"
   ]
  }
 ],
 "metadata": {
  "kernelspec": {
   "display_name": "Python 3 (ipykernel)",
   "language": "python",
   "name": "python3"
  },
  "language_info": {
   "codemirror_mode": {
    "name": "ipython",
    "version": 3
   },
   "file_extension": ".py",
   "mimetype": "text/x-python",
   "name": "python",
   "nbconvert_exporter": "python",
   "pygments_lexer": "ipython3",
   "version": "3.10.12"
  }
 },
 "nbformat": 4,
 "nbformat_minor": 5
}
