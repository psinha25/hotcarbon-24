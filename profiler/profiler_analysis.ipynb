{
 "cells": [
  {
   "cell_type": "code",
   "execution_count": 1,
   "id": "e21c36e5-64f3-4282-82d8-d99acf6b0251",
   "metadata": {},
   "outputs": [],
   "source": [
    "from datasets import Dataset\n",
    "from datasets import load_dataset\n",
    "from glob import glob\n",
    "import pandas as pd\n",
    "import numpy as np"
   ]
  },
  {
   "cell_type": "code",
   "execution_count": 2,
   "id": "c24f362b-c5dd-4f66-9877-e08b729d1ad0",
   "metadata": {},
   "outputs": [],
   "source": [
    "sdxl_1step = pd.read_csv(\"data/a100/diffusion/batchsize_1_output_ncu.csv\")\n",
    "metrics = sdxl_1step[\"Metric Name\"]\n",
    "ind = np.where(metrics == \"Duration\")[0]\n",
    "kernel = sdxl_1step.iloc[ind][\"Kernel Name\"]\n",
    "duration = sdxl_1step.iloc[ind][\"Metric Value\"].str.replace(',', '').astype(float)/1e9\n",
    "simplified = pd.DataFrame({\n",
    "    'Kernel': kernel,\n",
    "    'Duration': duration\n",
    "})\n",
    "total_duration= simplified.groupby('Kernel')['Duration'].sum()\n",
    "sorted_kernel_durations = total_duration.sort_values(ascending=False)"
   ]
  },
  {
   "cell_type": "code",
   "execution_count": 3,
   "id": "d9fdf7c6-8619-40e1-a6cf-7f0589e4cc5a",
   "metadata": {},
   "outputs": [
    {
     "data": {
      "text/plain": [
       "0.3821615040000006"
      ]
     },
     "execution_count": 3,
     "metadata": {},
     "output_type": "execute_result"
    }
   ],
   "source": [
    "sum(duration)"
   ]
  },
  {
   "cell_type": "code",
   "execution_count": 4,
   "id": "cf57ef73-a7f7-44ea-becd-fde45a8c0a05",
   "metadata": {},
   "outputs": [
    {
     "data": {
      "text/plain": [
       "Kernel\n",
       "void at::native::<unnamed>::RowwiseMomentsCUDAKernel<float>(long, T1, const T1 *, T1 *, T1 *)                                                                                                                                                                                                                                                                                                                                                                                                                                                                                                                                                                                                                                                       0.073837\n",
       "sm80_xmma_fprop_implicit_gemm_tf32f32_tf32f32_f32_nhwckrsc_nchw_tilesize256x128x32_stage3_warpsize4x2x1_g1_tensor16x8x8_execute_kernel_cudnn_infer                                                                                                                                                                                                                                                                                                                                                                                                                                                                                                                                                                                                  0.049340\n",
       "sm80_xmma_fprop_implicit_gemm_indexed_tf32f32_tf32f32_f32_nhwckrsc_nchw_tilesize128x128x16_stage4_warpsize2x2x1_g1_tensor16x8x8_execute_kernel_cudnn_infer                                                                                                                                                                                                                                                                                                                                                                                                                                                                                                                                                                                          0.036558\n",
       "ampere_fp16_s16816gemm_fp16_128x256_ldg8_relu_f2f_stages_64x3_tn                                                                                                                                                                                                                                                                                                                                                                                                                                                                                                                                                                                                                                                                                    0.018283\n",
       "ampere_fp16_s16816gemm_fp16_128x128_ldg8_f2f_stages_32x5_tn                                                                                                                                                                                                                                                                                                                                                                                                                                                                                                                                                                                                                                                                                         0.014532\n",
       "                                                                                                                                                                                                                                                                                                                                                                                                                                                                                                                                                                                                                                                                                                                                                      ...   \n",
       "void at::native::<unnamed>::CatArrayBatchedCopy_aligned16_contig<at::native::<unnamed>::OpaqueType<(unsigned int)4>, unsigned int, (int)1, (int)128, (int)1>(T1 *, at::native::<unnamed>::CatArrInputTensorMetadata<T1, T2, T4, T5>, at::native::<unnamed>::TensorSizeStride<T2, (unsigned int)4>, int, T2)                                                                                                                                                                                                                                                                                                                                                                                                                                         0.000005\n",
       "void at::native::vectorized_elementwise_kernel<(int)4, at::native::BinaryFunctor<float, float, bool, at::native::<unnamed>::CompareEqFunctor<float>>, at::detail::Array<char *, (int)3>>(int, T2, T3)                                                                                                                                                                                                                                                                                                                                                                                                                                                                                                                                               0.000004\n",
       "void at_cuda_detail::cub::DeviceSelectSweepKernel<at_cuda_detail::cub::DispatchSelectIf<at_cuda_detail::cub::CountingInputIterator<long, long>, at_cuda_detail::cub::TransformInputIterator<bool, at::native::<unnamed>::NonZeroOp<bool>, const bool *, long>, long *, int *, at_cuda_detail::cub::NullType, at_cuda_detail::cub::NullType, int, (bool)0, (bool)0>::PtxSelectIfPolicyT, at_cuda_detail::cub::CountingInputIterator<long, long>, at_cuda_detail::cub::TransformInputIterator<bool, at::native::<unnamed>::NonZeroOp<bool>, const bool *, long>, long *, int *, at_cuda_detail::cub::ScanTileState<int, (bool)1>, at_cuda_detail::cub::NullType, at_cuda_detail::cub::NullType, int, (bool)0>(T2, T3, T4, T5, T6, T7, T8, T9, int)    0.000004\n",
       "void at_cuda_detail::cub::DeviceReduceSingleTileKernel<at_cuda_detail::cub::DeviceReducePolicy<int, int, at_cuda_detail::cub::Sum>::Policy600, at_cuda_detail::cub::TransformInputIterator<bool, at::native::<unnamed>::NonZeroOp<bool>, const bool *, long>, int *, int, at_cuda_detail::cub::Sum, int, int>(T2, T3, T4, T5, T6)                                                                                                                                                                                                                                                                                                                                                                                                                   0.000004\n",
       "void at_cuda_detail::cub::DeviceCompactInitKernel<at_cuda_detail::cub::ScanTileState<int, (bool)1>, int *>(T1, int, T2)                                                                                                                                                                                                                                                                                                                                                                                                                                                                                                                                                                                                                             0.000004\n",
       "Name: Duration, Length: 102, dtype: float64"
      ]
     },
     "execution_count": 4,
     "metadata": {},
     "output_type": "execute_result"
    }
   ],
   "source": [
    "sorted_kernel_durations"
   ]
  }
 ],
 "metadata": {
  "kernelspec": {
   "display_name": "Python 3 (ipykernel)",
   "language": "python",
   "name": "python3"
  },
  "language_info": {
   "codemirror_mode": {
    "name": "ipython",
    "version": 3
   },
   "file_extension": ".py",
   "mimetype": "text/x-python",
   "name": "python",
   "nbconvert_exporter": "python",
   "pygments_lexer": "ipython3",
   "version": "3.10.12"
  }
 },
 "nbformat": 4,
 "nbformat_minor": 5
}
