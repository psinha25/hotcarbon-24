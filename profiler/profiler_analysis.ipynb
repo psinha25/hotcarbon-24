{
 "cells": [
  {
   "cell_type": "code",
   "execution_count": 1,
   "id": "e21c36e5-64f3-4282-82d8-d99acf6b0251",
   "metadata": {},
   "outputs": [],
   "source": [
    "from glob import glob\n",
    "import pandas as pd\n",
    "import numpy as np\n",
    "import matplotlib.pyplot as plt"
   ]
  },
  {
   "cell_type": "code",
   "execution_count": 2,
   "id": "a829eb2c-4940-4500-8aac-36c16f4d5990",
   "metadata": {},
   "outputs": [],
   "source": [
    "file_list = glob(\"data/a100/*/*output_ncu.csv\")\n",
    "profile_results = []\n",
    "memory_pct = []\n",
    "compute_pct = []\n",
    "for file in file_list:\n",
    "    df = pd.read_csv(file)\n",
    "    used_columns = [0,6,13,14,15,16]\n",
    "    unused_columns = df.columns[list(set(range(df.columns.shape[0])).difference(used_columns))]\n",
    "    df = df.drop(columns=unused_columns)\n",
    "    metrics = ['Duration', 'Memory Throughput', 'Compute (SM) Throughput']\n",
    "    df = df[df['Metric Name'].isin(metrics) & df['Section Name'].isin([\"GPU Speed Of Light Throughput\"])]\n",
    "    df_memory = df[0::3][['ID', 'Kernel Name', 'Metric Value']].rename(columns={'Metric Value': 'memory'})\n",
    "    df_duration = df[1::3][['ID', 'Kernel Name', 'Metric Value']].rename(columns={'Metric Value': 'duration'})\n",
    "    df_compute = df[2::3][['ID', 'Kernel Name', 'Metric Value']].rename(columns={'Metric Value': 'compute'})\n",
    "    df = pd.merge(df_memory, df_duration, on=['ID', 'Kernel Name'])\n",
    "    df = pd.merge(df, df_compute, on=['ID', 'Kernel Name'])\n",
    "    df['memory'] = df['memory'].str.replace(',', '').astype(float)/100\n",
    "    df['duration'] = df['duration'].str.replace(',', '').astype(float)/1e9\n",
    "    df['compute'] = df['compute'].str.replace(',', '').astype(float)/100\n",
    "\n",
    "    if file == 'data/a100/diffusion/batchsize_1_output_ncu.csv':\n",
    "        kernel_to_drop = [sorted(df['Kernel Name'].unique())[66]]\n",
    "        ind_to_drop = np.where(df['Kernel Name'].isin(kernel_to_drop))[0]\n",
    "        df = df.drop(ind_to_drop)\n",
    "\n",
    "    if file == 'data/a100/diffusion-2/batchsize_1_output_ncu.csv':\n",
    "        kernel_to_drop = [sorted(df['Kernel Name'].unique())[48]]\n",
    "        ind_to_drop = np.where(df['Kernel Name'].isin(kernel_to_drop))[0]\n",
    "        df = df.drop(ind_to_drop)\n",
    "    \n",
    "    profile_results.append(df.groupby('Kernel Name'))\n",
    "    time_fraction = df['duration']/np.sum(df['duration'])\n",
    "    memory_pct.append(np.dot(time_fraction, df['memory']))\n",
    "    compute_pct.append(np.dot(time_fraction, df['compute']))"
   ]
  },
  {
   "cell_type": "code",
   "execution_count": 3,
   "id": "cfcdab9e-10ce-4e1f-a96d-61d0baab9b88",
   "metadata": {},
   "outputs": [
    {
     "name": "stdout",
     "output_type": "stream",
     "text": [
      "All Kernels Match\n"
     ]
    }
   ],
   "source": [
    "for ik, k in enumerate(profile_results[1].groups.keys()):\n",
    "    assert k == list(profile_results[3].groups.keys())[ik]\n",
    "print(\"All Kernels Match\")"
   ]
  }
 ],
 "metadata": {
  "kernelspec": {
   "display_name": "Python 3 (ipykernel)",
   "language": "python",
   "name": "python3"
  },
  "language_info": {
   "codemirror_mode": {
    "name": "ipython",
    "version": 3
   },
   "file_extension": ".py",
   "mimetype": "text/x-python",
   "name": "python",
   "nbconvert_exporter": "python",
   "pygments_lexer": "ipython3",
   "version": "3.10.12"
  }
 },
 "nbformat": 4,
 "nbformat_minor": 5
}
